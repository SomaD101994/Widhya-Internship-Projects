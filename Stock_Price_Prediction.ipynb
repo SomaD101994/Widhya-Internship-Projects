{
 "cells": [
  {
   "cell_type": "markdown",
   "metadata": {},
   "source": [
    "# Stock Price Prediction Using Linear Regression at Widhya"
   ]
  },
  {
   "cell_type": "markdown",
   "metadata": {},
   "source": [
    "## __Author: Soma Dey__"
   ]
  },
  {
   "cell_type": "markdown",
   "metadata": {},
   "source": [
    "### 1. Importing the dataset and all required libraries"
   ]
  },
  {
   "cell_type": "code",
   "execution_count": 1,
   "metadata": {},
   "outputs": [],
   "source": [
    "import pandas as pd\n",
    "import seaborn as sns\n",
    "import matplotlib.pyplot as plt\n",
    "%matplotlib inline\n",
    "import numpy as np\n",
    "import warnings\n",
    "warnings.filterwarnings('ignore')\n",
    "import math\n",
    "from sklearn.model_selection import train_test_split\n",
    "from sklearn import linear_model\n",
    "from sklearn.linear_model import LinearRegression\n",
    "from sklearn.metrics import mean_absolute_error\n",
    "from sklearn.metrics import mean_squared_error"
   ]
  },
  {
   "cell_type": "code",
   "execution_count": 2,
   "metadata": {},
   "outputs": [],
   "source": [
    "#Load the data into a pandas dataFrame\n",
    "df= pd.read_csv(\"C:/Users/SOMA/Documents/Python_Projects/Widhya/EOD-AAPL.csv\")"
   ]
  },
  {
   "cell_type": "code",
   "execution_count": 3,
   "metadata": {},
   "outputs": [
    {
     "data": {
      "text/html": [
       "<div>\n",
       "<style scoped>\n",
       "    .dataframe tbody tr th:only-of-type {\n",
       "        vertical-align: middle;\n",
       "    }\n",
       "\n",
       "    .dataframe tbody tr th {\n",
       "        vertical-align: top;\n",
       "    }\n",
       "\n",
       "    .dataframe thead th {\n",
       "        text-align: right;\n",
       "    }\n",
       "</style>\n",
       "<table border=\"1\" class=\"dataframe\">\n",
       "  <thead>\n",
       "    <tr style=\"text-align: right;\">\n",
       "      <th></th>\n",
       "      <th>Date</th>\n",
       "      <th>Open</th>\n",
       "      <th>High</th>\n",
       "      <th>Low</th>\n",
       "      <th>Close</th>\n",
       "      <th>Volume</th>\n",
       "      <th>Dividend</th>\n",
       "      <th>Split</th>\n",
       "      <th>Adj_Open</th>\n",
       "      <th>Adj_High</th>\n",
       "      <th>Adj_Low</th>\n",
       "      <th>Adj_Close</th>\n",
       "      <th>Adj_Volume</th>\n",
       "    </tr>\n",
       "  </thead>\n",
       "  <tbody>\n",
       "    <tr>\n",
       "      <th>0</th>\n",
       "      <td>2017-12-28</td>\n",
       "      <td>171.00</td>\n",
       "      <td>171.850</td>\n",
       "      <td>170.480</td>\n",
       "      <td>171.08</td>\n",
       "      <td>16480187.0</td>\n",
       "      <td>0.0</td>\n",
       "      <td>1.0</td>\n",
       "      <td>41.006118</td>\n",
       "      <td>41.209949</td>\n",
       "      <td>40.881421</td>\n",
       "      <td>41.025302</td>\n",
       "      <td>65920748.0</td>\n",
       "    </tr>\n",
       "    <tr>\n",
       "      <th>1</th>\n",
       "      <td>2017-12-27</td>\n",
       "      <td>170.10</td>\n",
       "      <td>170.780</td>\n",
       "      <td>169.710</td>\n",
       "      <td>170.60</td>\n",
       "      <td>21498213.0</td>\n",
       "      <td>0.0</td>\n",
       "      <td>1.0</td>\n",
       "      <td>40.790296</td>\n",
       "      <td>40.953361</td>\n",
       "      <td>40.696773</td>\n",
       "      <td>40.910197</td>\n",
       "      <td>85992852.0</td>\n",
       "    </tr>\n",
       "    <tr>\n",
       "      <th>2</th>\n",
       "      <td>2017-12-26</td>\n",
       "      <td>170.80</td>\n",
       "      <td>171.470</td>\n",
       "      <td>169.679</td>\n",
       "      <td>170.57</td>\n",
       "      <td>33185536.0</td>\n",
       "      <td>0.0</td>\n",
       "      <td>1.0</td>\n",
       "      <td>40.958157</td>\n",
       "      <td>41.118825</td>\n",
       "      <td>40.689340</td>\n",
       "      <td>40.903003</td>\n",
       "      <td>132742144.0</td>\n",
       "    </tr>\n",
       "    <tr>\n",
       "      <th>3</th>\n",
       "      <td>2017-12-22</td>\n",
       "      <td>174.68</td>\n",
       "      <td>175.424</td>\n",
       "      <td>174.500</td>\n",
       "      <td>175.01</td>\n",
       "      <td>16349444.0</td>\n",
       "      <td>0.0</td>\n",
       "      <td>1.0</td>\n",
       "      <td>41.888589</td>\n",
       "      <td>42.067001</td>\n",
       "      <td>41.845424</td>\n",
       "      <td>41.967723</td>\n",
       "      <td>65397776.0</td>\n",
       "    </tr>\n",
       "    <tr>\n",
       "      <th>4</th>\n",
       "      <td>2017-12-21</td>\n",
       "      <td>174.17</td>\n",
       "      <td>176.020</td>\n",
       "      <td>174.100</td>\n",
       "      <td>175.01</td>\n",
       "      <td>20949896.0</td>\n",
       "      <td>0.0</td>\n",
       "      <td>1.0</td>\n",
       "      <td>41.766290</td>\n",
       "      <td>42.209923</td>\n",
       "      <td>41.749504</td>\n",
       "      <td>41.967723</td>\n",
       "      <td>83799584.0</td>\n",
       "    </tr>\n",
       "  </tbody>\n",
       "</table>\n",
       "</div>"
      ],
      "text/plain": [
       "         Date    Open     High      Low   Close      Volume  Dividend  Split  \\\n",
       "0  2017-12-28  171.00  171.850  170.480  171.08  16480187.0       0.0    1.0   \n",
       "1  2017-12-27  170.10  170.780  169.710  170.60  21498213.0       0.0    1.0   \n",
       "2  2017-12-26  170.80  171.470  169.679  170.57  33185536.0       0.0    1.0   \n",
       "3  2017-12-22  174.68  175.424  174.500  175.01  16349444.0       0.0    1.0   \n",
       "4  2017-12-21  174.17  176.020  174.100  175.01  20949896.0       0.0    1.0   \n",
       "\n",
       "    Adj_Open   Adj_High    Adj_Low  Adj_Close   Adj_Volume  \n",
       "0  41.006118  41.209949  40.881421  41.025302   65920748.0  \n",
       "1  40.790296  40.953361  40.696773  40.910197   85992852.0  \n",
       "2  40.958157  41.118825  40.689340  40.903003  132742144.0  \n",
       "3  41.888589  42.067001  41.845424  41.967723   65397776.0  \n",
       "4  41.766290  42.209923  41.749504  41.967723   83799584.0  "
      ]
     },
     "execution_count": 3,
     "metadata": {},
     "output_type": "execute_result"
    }
   ],
   "source": [
    "#Read the dataset\n",
    "df.head() #printing first 5 records of the dataset"
   ]
  },
  {
   "cell_type": "code",
   "execution_count": 4,
   "metadata": {},
   "outputs": [
    {
     "data": {
      "text/html": [
       "<div>\n",
       "<style scoped>\n",
       "    .dataframe tbody tr th:only-of-type {\n",
       "        vertical-align: middle;\n",
       "    }\n",
       "\n",
       "    .dataframe tbody tr th {\n",
       "        vertical-align: top;\n",
       "    }\n",
       "\n",
       "    .dataframe thead th {\n",
       "        text-align: right;\n",
       "    }\n",
       "</style>\n",
       "<table border=\"1\" class=\"dataframe\">\n",
       "  <thead>\n",
       "    <tr style=\"text-align: right;\">\n",
       "      <th></th>\n",
       "      <th>Date</th>\n",
       "      <th>Open</th>\n",
       "      <th>High</th>\n",
       "      <th>Low</th>\n",
       "      <th>Close</th>\n",
       "      <th>Volume</th>\n",
       "      <th>Dividend</th>\n",
       "      <th>Split</th>\n",
       "      <th>Adj_Open</th>\n",
       "      <th>Adj_High</th>\n",
       "      <th>Adj_Low</th>\n",
       "      <th>Adj_Close</th>\n",
       "      <th>Adj_Volume</th>\n",
       "    </tr>\n",
       "  </thead>\n",
       "  <tbody>\n",
       "    <tr>\n",
       "      <th>1085</th>\n",
       "      <td>2013-09-09</td>\n",
       "      <td>505.00</td>\n",
       "      <td>507.92</td>\n",
       "      <td>503.48</td>\n",
       "      <td>506.170</td>\n",
       "      <td>12167400.0</td>\n",
       "      <td>0.0</td>\n",
       "      <td>1.0</td>\n",
       "      <td>15.945715</td>\n",
       "      <td>16.037916</td>\n",
       "      <td>15.897720</td>\n",
       "      <td>15.982659</td>\n",
       "      <td>340687200.0</td>\n",
       "    </tr>\n",
       "    <tr>\n",
       "      <th>1086</th>\n",
       "      <td>2013-09-06</td>\n",
       "      <td>498.44</td>\n",
       "      <td>499.38</td>\n",
       "      <td>489.95</td>\n",
       "      <td>498.220</td>\n",
       "      <td>12840200.0</td>\n",
       "      <td>0.0</td>\n",
       "      <td>1.0</td>\n",
       "      <td>15.738579</td>\n",
       "      <td>15.768260</td>\n",
       "      <td>15.470501</td>\n",
       "      <td>15.731632</td>\n",
       "      <td>359525600.0</td>\n",
       "    </tr>\n",
       "    <tr>\n",
       "      <th>1087</th>\n",
       "      <td>2013-09-05</td>\n",
       "      <td>500.25</td>\n",
       "      <td>500.68</td>\n",
       "      <td>493.64</td>\n",
       "      <td>495.270</td>\n",
       "      <td>8441700.0</td>\n",
       "      <td>0.0</td>\n",
       "      <td>1.0</td>\n",
       "      <td>15.795731</td>\n",
       "      <td>15.809308</td>\n",
       "      <td>15.587016</td>\n",
       "      <td>15.638484</td>\n",
       "      <td>236367600.0</td>\n",
       "    </tr>\n",
       "    <tr>\n",
       "      <th>1088</th>\n",
       "      <td>2013-09-04</td>\n",
       "      <td>499.56</td>\n",
       "      <td>502.24</td>\n",
       "      <td>496.28</td>\n",
       "      <td>498.691</td>\n",
       "      <td>12322600.0</td>\n",
       "      <td>0.0</td>\n",
       "      <td>1.0</td>\n",
       "      <td>15.773944</td>\n",
       "      <td>15.858566</td>\n",
       "      <td>15.670375</td>\n",
       "      <td>15.746504</td>\n",
       "      <td>345032800.0</td>\n",
       "    </tr>\n",
       "    <tr>\n",
       "      <th>1089</th>\n",
       "      <td>2013-09-03</td>\n",
       "      <td>493.10</td>\n",
       "      <td>500.60</td>\n",
       "      <td>487.35</td>\n",
       "      <td>488.580</td>\n",
       "      <td>11854600.0</td>\n",
       "      <td>0.0</td>\n",
       "      <td>1.0</td>\n",
       "      <td>15.569965</td>\n",
       "      <td>15.806782</td>\n",
       "      <td>15.388405</td>\n",
       "      <td>15.427243</td>\n",
       "      <td>331928800.0</td>\n",
       "    </tr>\n",
       "  </tbody>\n",
       "</table>\n",
       "</div>"
      ],
      "text/plain": [
       "            Date    Open    High     Low    Close      Volume  Dividend  \\\n",
       "1085  2013-09-09  505.00  507.92  503.48  506.170  12167400.0       0.0   \n",
       "1086  2013-09-06  498.44  499.38  489.95  498.220  12840200.0       0.0   \n",
       "1087  2013-09-05  500.25  500.68  493.64  495.270   8441700.0       0.0   \n",
       "1088  2013-09-04  499.56  502.24  496.28  498.691  12322600.0       0.0   \n",
       "1089  2013-09-03  493.10  500.60  487.35  488.580  11854600.0       0.0   \n",
       "\n",
       "      Split   Adj_Open   Adj_High    Adj_Low  Adj_Close   Adj_Volume  \n",
       "1085    1.0  15.945715  16.037916  15.897720  15.982659  340687200.0  \n",
       "1086    1.0  15.738579  15.768260  15.470501  15.731632  359525600.0  \n",
       "1087    1.0  15.795731  15.809308  15.587016  15.638484  236367600.0  \n",
       "1088    1.0  15.773944  15.858566  15.670375  15.746504  345032800.0  \n",
       "1089    1.0  15.569965  15.806782  15.388405  15.427243  331928800.0  "
      ]
     },
     "execution_count": 4,
     "metadata": {},
     "output_type": "execute_result"
    }
   ],
   "source": [
    "#Now printing last 5 records of the dataset\n",
    "df.tail()"
   ]
  },
  {
   "cell_type": "code",
   "execution_count": 5,
   "metadata": {},
   "outputs": [
    {
     "data": {
      "text/plain": [
       "Index(['Date', 'Open', 'High', 'Low', 'Close', 'Volume', 'Dividend', 'Split',\n",
       "       'Adj_Open', 'Adj_High', 'Adj_Low', 'Adj_Close', 'Adj_Volume'],\n",
       "      dtype='object')"
      ]
     },
     "execution_count": 5,
     "metadata": {},
     "output_type": "execute_result"
    }
   ],
   "source": [
    "#Finding how many features are there in the dataset\n",
    "df.columns"
   ]
  },
  {
   "cell_type": "code",
   "execution_count": 6,
   "metadata": {},
   "outputs": [
    {
     "data": {
      "text/plain": [
       "(1090, 13)"
      ]
     },
     "execution_count": 6,
     "metadata": {},
     "output_type": "execute_result"
    }
   ],
   "source": [
    "df.shape"
   ]
  },
  {
   "cell_type": "markdown",
   "metadata": {},
   "source": [
    "+ **This Stock Price Prediction dataset has 1090 rows and 13 columns**"
   ]
  },
  {
   "cell_type": "markdown",
   "metadata": {},
   "source": [
    "### 2. Exploratory Data Analysis"
   ]
  },
  {
   "cell_type": "code",
   "execution_count": 7,
   "metadata": {},
   "outputs": [
    {
     "data": {
      "text/html": [
       "<div>\n",
       "<style scoped>\n",
       "    .dataframe tbody tr th:only-of-type {\n",
       "        vertical-align: middle;\n",
       "    }\n",
       "\n",
       "    .dataframe tbody tr th {\n",
       "        vertical-align: top;\n",
       "    }\n",
       "\n",
       "    .dataframe thead th {\n",
       "        text-align: right;\n",
       "    }\n",
       "</style>\n",
       "<table border=\"1\" class=\"dataframe\">\n",
       "  <thead>\n",
       "    <tr style=\"text-align: right;\">\n",
       "      <th></th>\n",
       "      <th>Open</th>\n",
       "      <th>High</th>\n",
       "      <th>Low</th>\n",
       "      <th>Close</th>\n",
       "      <th>Volume</th>\n",
       "      <th>Dividend</th>\n",
       "      <th>Split</th>\n",
       "      <th>Adj_Open</th>\n",
       "      <th>Adj_High</th>\n",
       "      <th>Adj_Low</th>\n",
       "      <th>Adj_Close</th>\n",
       "      <th>Adj_Volume</th>\n",
       "    </tr>\n",
       "  </thead>\n",
       "  <tbody>\n",
       "    <tr>\n",
       "      <th>count</th>\n",
       "      <td>1090.000000</td>\n",
       "      <td>1090.000000</td>\n",
       "      <td>1090.000000</td>\n",
       "      <td>1090.000000</td>\n",
       "      <td>1.090000e+03</td>\n",
       "      <td>1090.000000</td>\n",
       "      <td>1090.000000</td>\n",
       "      <td>1090.000000</td>\n",
       "      <td>1090.000000</td>\n",
       "      <td>1090.000000</td>\n",
       "      <td>1090.000000</td>\n",
       "      <td>1.090000e+03</td>\n",
       "    </tr>\n",
       "    <tr>\n",
       "      <th>mean</th>\n",
       "      <td>194.564537</td>\n",
       "      <td>196.114735</td>\n",
       "      <td>193.016676</td>\n",
       "      <td>194.613130</td>\n",
       "      <td>3.605114e+07</td>\n",
       "      <td>0.015642</td>\n",
       "      <td>1.005505</td>\n",
       "      <td>26.283677</td>\n",
       "      <td>26.493692</td>\n",
       "      <td>26.068855</td>\n",
       "      <td>26.289305</td>\n",
       "      <td>1.931334e+08</td>\n",
       "    </tr>\n",
       "    <tr>\n",
       "      <th>std</th>\n",
       "      <td>160.562848</td>\n",
       "      <td>161.812898</td>\n",
       "      <td>159.407381</td>\n",
       "      <td>160.647536</td>\n",
       "      <td>2.194473e+07</td>\n",
       "      <td>0.175122</td>\n",
       "      <td>0.181735</td>\n",
       "      <td>6.593449</td>\n",
       "      <td>6.619745</td>\n",
       "      <td>6.557756</td>\n",
       "      <td>6.595409</td>\n",
       "      <td>1.112891e+08</td>\n",
       "    </tr>\n",
       "    <tr>\n",
       "      <th>min</th>\n",
       "      <td>90.000000</td>\n",
       "      <td>90.700000</td>\n",
       "      <td>89.470000</td>\n",
       "      <td>90.280000</td>\n",
       "      <td>5.704900e+06</td>\n",
       "      <td>0.000000</td>\n",
       "      <td>1.000000</td>\n",
       "      <td>14.144639</td>\n",
       "      <td>14.515653</td>\n",
       "      <td>14.121273</td>\n",
       "      <td>14.212842</td>\n",
       "      <td>4.590369e+07</td>\n",
       "    </tr>\n",
       "    <tr>\n",
       "      <th>25%</th>\n",
       "      <td>108.042500</td>\n",
       "      <td>108.942500</td>\n",
       "      <td>106.972500</td>\n",
       "      <td>108.007500</td>\n",
       "      <td>2.120714e+07</td>\n",
       "      <td>0.000000</td>\n",
       "      <td>1.000000</td>\n",
       "      <td>22.099713</td>\n",
       "      <td>22.362631</td>\n",
       "      <td>21.879019</td>\n",
       "      <td>22.130410</td>\n",
       "      <td>1.133450e+08</td>\n",
       "    </tr>\n",
       "    <tr>\n",
       "      <th>50%</th>\n",
       "      <td>121.585000</td>\n",
       "      <td>122.504950</td>\n",
       "      <td>120.640000</td>\n",
       "      <td>121.755000</td>\n",
       "      <td>3.248325e+07</td>\n",
       "      <td>0.000000</td>\n",
       "      <td>1.000000</td>\n",
       "      <td>25.699500</td>\n",
       "      <td>25.972960</td>\n",
       "      <td>25.430346</td>\n",
       "      <td>25.707787</td>\n",
       "      <td>1.681963e+08</td>\n",
       "    </tr>\n",
       "    <tr>\n",
       "      <th>75%</th>\n",
       "      <td>156.905000</td>\n",
       "      <td>157.809625</td>\n",
       "      <td>155.744975</td>\n",
       "      <td>156.515000</td>\n",
       "      <td>4.673778e+07</td>\n",
       "      <td>0.000000</td>\n",
       "      <td>1.000000</td>\n",
       "      <td>29.235805</td>\n",
       "      <td>29.448022</td>\n",
       "      <td>29.041285</td>\n",
       "      <td>29.269451</td>\n",
       "      <td>2.394642e+08</td>\n",
       "    </tr>\n",
       "    <tr>\n",
       "      <th>max</th>\n",
       "      <td>649.900000</td>\n",
       "      <td>651.260000</td>\n",
       "      <td>644.470000</td>\n",
       "      <td>647.350000</td>\n",
       "      <td>1.895606e+08</td>\n",
       "      <td>3.290000</td>\n",
       "      <td>7.000000</td>\n",
       "      <td>41.991703</td>\n",
       "      <td>42.492889</td>\n",
       "      <td>41.931753</td>\n",
       "      <td>42.305844</td>\n",
       "      <td>1.065523e+09</td>\n",
       "    </tr>\n",
       "  </tbody>\n",
       "</table>\n",
       "</div>"
      ],
      "text/plain": [
       "              Open         High          Low        Close        Volume  \\\n",
       "count  1090.000000  1090.000000  1090.000000  1090.000000  1.090000e+03   \n",
       "mean    194.564537   196.114735   193.016676   194.613130  3.605114e+07   \n",
       "std     160.562848   161.812898   159.407381   160.647536  2.194473e+07   \n",
       "min      90.000000    90.700000    89.470000    90.280000  5.704900e+06   \n",
       "25%     108.042500   108.942500   106.972500   108.007500  2.120714e+07   \n",
       "50%     121.585000   122.504950   120.640000   121.755000  3.248325e+07   \n",
       "75%     156.905000   157.809625   155.744975   156.515000  4.673778e+07   \n",
       "max     649.900000   651.260000   644.470000   647.350000  1.895606e+08   \n",
       "\n",
       "          Dividend        Split     Adj_Open     Adj_High      Adj_Low  \\\n",
       "count  1090.000000  1090.000000  1090.000000  1090.000000  1090.000000   \n",
       "mean      0.015642     1.005505    26.283677    26.493692    26.068855   \n",
       "std       0.175122     0.181735     6.593449     6.619745     6.557756   \n",
       "min       0.000000     1.000000    14.144639    14.515653    14.121273   \n",
       "25%       0.000000     1.000000    22.099713    22.362631    21.879019   \n",
       "50%       0.000000     1.000000    25.699500    25.972960    25.430346   \n",
       "75%       0.000000     1.000000    29.235805    29.448022    29.041285   \n",
       "max       3.290000     7.000000    41.991703    42.492889    41.931753   \n",
       "\n",
       "         Adj_Close    Adj_Volume  \n",
       "count  1090.000000  1.090000e+03  \n",
       "mean     26.289305  1.931334e+08  \n",
       "std       6.595409  1.112891e+08  \n",
       "min      14.212842  4.590369e+07  \n",
       "25%      22.130410  1.133450e+08  \n",
       "50%      25.707787  1.681963e+08  \n",
       "75%      29.269451  2.394642e+08  \n",
       "max      42.305844  1.065523e+09  "
      ]
     },
     "execution_count": 7,
     "metadata": {},
     "output_type": "execute_result"
    }
   ],
   "source": [
    "#here we use describe() method so that we can able to see percentiles,mean,std,max,count of the given dataset.\n",
    "df.describe()"
   ]
  },
  {
   "cell_type": "code",
   "execution_count": 8,
   "metadata": {},
   "outputs": [
    {
     "name": "stdout",
     "output_type": "stream",
     "text": [
      "<class 'pandas.core.frame.DataFrame'>\n",
      "RangeIndex: 1090 entries, 0 to 1089\n",
      "Data columns (total 13 columns):\n",
      " #   Column      Non-Null Count  Dtype  \n",
      "---  ------      --------------  -----  \n",
      " 0   Date        1090 non-null   object \n",
      " 1   Open        1090 non-null   float64\n",
      " 2   High        1090 non-null   float64\n",
      " 3   Low         1090 non-null   float64\n",
      " 4   Close       1090 non-null   float64\n",
      " 5   Volume      1090 non-null   float64\n",
      " 6   Dividend    1090 non-null   float64\n",
      " 7   Split       1090 non-null   float64\n",
      " 8   Adj_Open    1090 non-null   float64\n",
      " 9   Adj_High    1090 non-null   float64\n",
      " 10  Adj_Low     1090 non-null   float64\n",
      " 11  Adj_Close   1090 non-null   float64\n",
      " 12  Adj_Volume  1090 non-null   float64\n",
      "dtypes: float64(12), object(1)\n",
      "memory usage: 110.8+ KB\n"
     ]
    }
   ],
   "source": [
    "df.info()"
   ]
  },
  {
   "cell_type": "code",
   "execution_count": 9,
   "metadata": {},
   "outputs": [
    {
     "data": {
      "text/html": [
       "<div>\n",
       "<style scoped>\n",
       "    .dataframe tbody tr th:only-of-type {\n",
       "        vertical-align: middle;\n",
       "    }\n",
       "\n",
       "    .dataframe tbody tr th {\n",
       "        vertical-align: top;\n",
       "    }\n",
       "\n",
       "    .dataframe thead th {\n",
       "        text-align: right;\n",
       "    }\n",
       "</style>\n",
       "<table border=\"1\" class=\"dataframe\">\n",
       "  <thead>\n",
       "    <tr style=\"text-align: right;\">\n",
       "      <th></th>\n",
       "      <th>Open</th>\n",
       "      <th>High</th>\n",
       "      <th>Low</th>\n",
       "      <th>Close</th>\n",
       "      <th>Volume</th>\n",
       "      <th>Dividend</th>\n",
       "      <th>Split</th>\n",
       "      <th>Adj_Open</th>\n",
       "      <th>Adj_High</th>\n",
       "      <th>Adj_Low</th>\n",
       "      <th>Adj_Close</th>\n",
       "      <th>Adj_Volume</th>\n",
       "    </tr>\n",
       "  </thead>\n",
       "  <tbody>\n",
       "    <tr>\n",
       "      <th>Open</th>\n",
       "      <td>1.000000</td>\n",
       "      <td>0.999948</td>\n",
       "      <td>0.999935</td>\n",
       "      <td>0.999866</td>\n",
       "      <td>-0.547597</td>\n",
       "      <td>0.088894</td>\n",
       "      <td>-0.019234</td>\n",
       "      <td>-0.534445</td>\n",
       "      <td>-0.537418</td>\n",
       "      <td>-0.531829</td>\n",
       "      <td>-0.534399</td>\n",
       "      <td>0.502054</td>\n",
       "    </tr>\n",
       "    <tr>\n",
       "      <th>High</th>\n",
       "      <td>0.999948</td>\n",
       "      <td>1.000000</td>\n",
       "      <td>0.999941</td>\n",
       "      <td>0.999944</td>\n",
       "      <td>-0.545893</td>\n",
       "      <td>0.088582</td>\n",
       "      <td>-0.019154</td>\n",
       "      <td>-0.535283</td>\n",
       "      <td>-0.538038</td>\n",
       "      <td>-0.532575</td>\n",
       "      <td>-0.534990</td>\n",
       "      <td>0.504125</td>\n",
       "    </tr>\n",
       "    <tr>\n",
       "      <th>Low</th>\n",
       "      <td>0.999935</td>\n",
       "      <td>0.999941</td>\n",
       "      <td>1.000000</td>\n",
       "      <td>0.999949</td>\n",
       "      <td>-0.550156</td>\n",
       "      <td>0.089065</td>\n",
       "      <td>-0.019259</td>\n",
       "      <td>-0.533844</td>\n",
       "      <td>-0.536724</td>\n",
       "      <td>-0.530960</td>\n",
       "      <td>-0.533517</td>\n",
       "      <td>0.498174</td>\n",
       "    </tr>\n",
       "    <tr>\n",
       "      <th>Close</th>\n",
       "      <td>0.999866</td>\n",
       "      <td>0.999944</td>\n",
       "      <td>0.999949</td>\n",
       "      <td>1.000000</td>\n",
       "      <td>-0.548315</td>\n",
       "      <td>0.088610</td>\n",
       "      <td>-0.019044</td>\n",
       "      <td>-0.534448</td>\n",
       "      <td>-0.537173</td>\n",
       "      <td>-0.531552</td>\n",
       "      <td>-0.533903</td>\n",
       "      <td>0.500617</td>\n",
       "    </tr>\n",
       "    <tr>\n",
       "      <th>Volume</th>\n",
       "      <td>-0.547597</td>\n",
       "      <td>-0.545893</td>\n",
       "      <td>-0.550156</td>\n",
       "      <td>-0.548315</td>\n",
       "      <td>1.000000</td>\n",
       "      <td>-0.061064</td>\n",
       "      <td>0.054382</td>\n",
       "      <td>0.085888</td>\n",
       "      <td>0.095572</td>\n",
       "      <td>0.071723</td>\n",
       "      <td>0.081938</td>\n",
       "      <td>0.337092</td>\n",
       "    </tr>\n",
       "    <tr>\n",
       "      <th>Dividend</th>\n",
       "      <td>0.088894</td>\n",
       "      <td>0.088582</td>\n",
       "      <td>0.089065</td>\n",
       "      <td>0.088610</td>\n",
       "      <td>-0.061064</td>\n",
       "      <td>1.000000</td>\n",
       "      <td>-0.002708</td>\n",
       "      <td>-0.050353</td>\n",
       "      <td>-0.051215</td>\n",
       "      <td>-0.050306</td>\n",
       "      <td>-0.051095</td>\n",
       "      <td>0.002395</td>\n",
       "    </tr>\n",
       "    <tr>\n",
       "      <th>Split</th>\n",
       "      <td>-0.019234</td>\n",
       "      <td>-0.019154</td>\n",
       "      <td>-0.019259</td>\n",
       "      <td>-0.019044</td>\n",
       "      <td>0.054382</td>\n",
       "      <td>-0.002708</td>\n",
       "      <td>1.000000</td>\n",
       "      <td>-0.024993</td>\n",
       "      <td>-0.024640</td>\n",
       "      <td>-0.025124</td>\n",
       "      <td>-0.023978</td>\n",
       "      <td>0.029564</td>\n",
       "    </tr>\n",
       "    <tr>\n",
       "      <th>Adj_Open</th>\n",
       "      <td>-0.534445</td>\n",
       "      <td>-0.535283</td>\n",
       "      <td>-0.533844</td>\n",
       "      <td>-0.534448</td>\n",
       "      <td>0.085888</td>\n",
       "      <td>-0.050353</td>\n",
       "      <td>-0.024993</td>\n",
       "      <td>1.000000</td>\n",
       "      <td>0.999528</td>\n",
       "      <td>0.999416</td>\n",
       "      <td>0.998987</td>\n",
       "      <td>-0.549990</td>\n",
       "    </tr>\n",
       "    <tr>\n",
       "      <th>Adj_High</th>\n",
       "      <td>-0.537418</td>\n",
       "      <td>-0.538038</td>\n",
       "      <td>-0.536724</td>\n",
       "      <td>-0.537173</td>\n",
       "      <td>0.095572</td>\n",
       "      <td>-0.051215</td>\n",
       "      <td>-0.024640</td>\n",
       "      <td>0.999528</td>\n",
       "      <td>1.000000</td>\n",
       "      <td>0.999278</td>\n",
       "      <td>0.999526</td>\n",
       "      <td>-0.544404</td>\n",
       "    </tr>\n",
       "    <tr>\n",
       "      <th>Adj_Low</th>\n",
       "      <td>-0.531829</td>\n",
       "      <td>-0.532575</td>\n",
       "      <td>-0.530960</td>\n",
       "      <td>-0.531552</td>\n",
       "      <td>0.071723</td>\n",
       "      <td>-0.050306</td>\n",
       "      <td>-0.025124</td>\n",
       "      <td>0.999416</td>\n",
       "      <td>0.999278</td>\n",
       "      <td>1.000000</td>\n",
       "      <td>0.999558</td>\n",
       "      <td>-0.560073</td>\n",
       "    </tr>\n",
       "    <tr>\n",
       "      <th>Adj_Close</th>\n",
       "      <td>-0.534399</td>\n",
       "      <td>-0.534990</td>\n",
       "      <td>-0.533517</td>\n",
       "      <td>-0.533903</td>\n",
       "      <td>0.081938</td>\n",
       "      <td>-0.051095</td>\n",
       "      <td>-0.023978</td>\n",
       "      <td>0.998987</td>\n",
       "      <td>0.999526</td>\n",
       "      <td>0.999558</td>\n",
       "      <td>1.000000</td>\n",
       "      <td>-0.553474</td>\n",
       "    </tr>\n",
       "    <tr>\n",
       "      <th>Adj_Volume</th>\n",
       "      <td>0.502054</td>\n",
       "      <td>0.504125</td>\n",
       "      <td>0.498174</td>\n",
       "      <td>0.500617</td>\n",
       "      <td>0.337092</td>\n",
       "      <td>0.002395</td>\n",
       "      <td>0.029564</td>\n",
       "      <td>-0.549990</td>\n",
       "      <td>-0.544404</td>\n",
       "      <td>-0.560073</td>\n",
       "      <td>-0.553474</td>\n",
       "      <td>1.000000</td>\n",
       "    </tr>\n",
       "  </tbody>\n",
       "</table>\n",
       "</div>"
      ],
      "text/plain": [
       "                Open      High       Low     Close    Volume  Dividend  \\\n",
       "Open        1.000000  0.999948  0.999935  0.999866 -0.547597  0.088894   \n",
       "High        0.999948  1.000000  0.999941  0.999944 -0.545893  0.088582   \n",
       "Low         0.999935  0.999941  1.000000  0.999949 -0.550156  0.089065   \n",
       "Close       0.999866  0.999944  0.999949  1.000000 -0.548315  0.088610   \n",
       "Volume     -0.547597 -0.545893 -0.550156 -0.548315  1.000000 -0.061064   \n",
       "Dividend    0.088894  0.088582  0.089065  0.088610 -0.061064  1.000000   \n",
       "Split      -0.019234 -0.019154 -0.019259 -0.019044  0.054382 -0.002708   \n",
       "Adj_Open   -0.534445 -0.535283 -0.533844 -0.534448  0.085888 -0.050353   \n",
       "Adj_High   -0.537418 -0.538038 -0.536724 -0.537173  0.095572 -0.051215   \n",
       "Adj_Low    -0.531829 -0.532575 -0.530960 -0.531552  0.071723 -0.050306   \n",
       "Adj_Close  -0.534399 -0.534990 -0.533517 -0.533903  0.081938 -0.051095   \n",
       "Adj_Volume  0.502054  0.504125  0.498174  0.500617  0.337092  0.002395   \n",
       "\n",
       "               Split  Adj_Open  Adj_High   Adj_Low  Adj_Close  Adj_Volume  \n",
       "Open       -0.019234 -0.534445 -0.537418 -0.531829  -0.534399    0.502054  \n",
       "High       -0.019154 -0.535283 -0.538038 -0.532575  -0.534990    0.504125  \n",
       "Low        -0.019259 -0.533844 -0.536724 -0.530960  -0.533517    0.498174  \n",
       "Close      -0.019044 -0.534448 -0.537173 -0.531552  -0.533903    0.500617  \n",
       "Volume      0.054382  0.085888  0.095572  0.071723   0.081938    0.337092  \n",
       "Dividend   -0.002708 -0.050353 -0.051215 -0.050306  -0.051095    0.002395  \n",
       "Split       1.000000 -0.024993 -0.024640 -0.025124  -0.023978    0.029564  \n",
       "Adj_Open   -0.024993  1.000000  0.999528  0.999416   0.998987   -0.549990  \n",
       "Adj_High   -0.024640  0.999528  1.000000  0.999278   0.999526   -0.544404  \n",
       "Adj_Low    -0.025124  0.999416  0.999278  1.000000   0.999558   -0.560073  \n",
       "Adj_Close  -0.023978  0.998987  0.999526  0.999558   1.000000   -0.553474  \n",
       "Adj_Volume  0.029564 -0.549990 -0.544404 -0.560073  -0.553474    1.000000  "
      ]
     },
     "execution_count": 9,
     "metadata": {},
     "output_type": "execute_result"
    }
   ],
   "source": [
    "#Here the dependant variable is 'btc_market_price' because we need to predict the price of bitcons.\n",
    "#Finding which feature correlate with the dependant variable.\n",
    "df.corr()"
   ]
  },
  {
   "cell_type": "markdown",
   "metadata": {},
   "source": [
    "### 3. Data Visualization"
   ]
  },
  {
   "cell_type": "code",
   "execution_count": 10,
   "metadata": {},
   "outputs": [
    {
     "data": {
      "image/png": "[encoded data removed]",
      "text/plain": [
       "<Figure size 1080x360 with 2 Axes>"
      ]
     },
     "metadata": {
      "needs_background": "light"
     },
     "output_type": "display_data"
    }
   ],
   "source": [
    "#Visualizing the Correlation between all features\n",
    "plt.figure(figsize=(15,5))\n",
    "a= df.corr()\n",
    "sns.heatmap(a,cmap='BrBG',annot=True)\n",
    "plt.show()"
   ]
  },
  {
   "cell_type": "code",
   "execution_count": 11,
   "metadata": {},
   "outputs": [
    {
     "data": {
      "image/png": "[encoded data removed]",
      "text/plain": [
       "<Figure size 1440x1080 with 12 Axes>"
      ]
     },
     "metadata": {
      "needs_background": "light"
     },
     "output_type": "display_data"
    }
   ],
   "source": [
    "df.hist(figsize=(20,15))\n",
    "plt.show()"
   ]
  },
  {
   "cell_type": "markdown",
   "metadata": {},
   "source": [
    "### 4. Data Pre-processing"
   ]
  },
  {
   "cell_type": "code",
   "execution_count": 12,
   "metadata": {},
   "outputs": [
    {
     "data": {
      "text/plain": [
       "Date          0\n",
       "Open          0\n",
       "High          0\n",
       "Low           0\n",
       "Close         0\n",
       "Volume        0\n",
       "Dividend      0\n",
       "Split         0\n",
       "Adj_Open      0\n",
       "Adj_High      0\n",
       "Adj_Low       0\n",
       "Adj_Close     0\n",
       "Adj_Volume    0\n",
       "dtype: int64"
      ]
     },
     "execution_count": 12,
     "metadata": {},
     "output_type": "execute_result"
    }
   ],
   "source": [
    "#Handling Missing Values\n",
    "df.isnull().sum()"
   ]
  },
  {
   "cell_type": "markdown",
   "metadata": {},
   "source": [
    "+ **There is no missing value present in this dataset.**"
   ]
  },
  {
   "cell_type": "markdown",
   "metadata": {},
   "source": [
    "+ **Here in our Stock Price dataset having both the regular columns and adjusted columns is redundant.**\n",
    "\n",
    "+ **Adjusted columns are the most ideal ones.**\n",
    "\n",
    "+ **Regular columns here are prices on the day, but stocks have things called stock splits, where suddenly 1 share becomes something like 2 shares, thus the value of a share is halved, but the value of the company has not halved.**\n",
    "\n",
    "+ **Adjusted columns are adjusted for stock splits over time, which makes them more reliable for doing analysis.**"
   ]
  },
  {
   "cell_type": "code",
   "execution_count": 13,
   "metadata": {},
   "outputs": [],
   "source": [
    "#Now we go ahead and pair down our original dataframe a bit:\n",
    "\n",
    "df = df[['Adj_Open',  'Adj_High',  'Adj_Low',  'Adj_Close', 'Adj_Volume']]"
   ]
  },
  {
   "cell_type": "code",
   "execution_count": 14,
   "metadata": {},
   "outputs": [],
   "source": [
    "#This creates a new column that is the % spread based on the closing price, which is our crude measure of volatility.\n",
    "\n",
    "df['HL_PCT'] = (df['Adj_High'] - df['Adj_Low']) / df['Adj_Close'] * 100.0\n",
    "\n",
    "#This creates a new column that is the daily % change.\n",
    "\n",
    "df['PCT_change'] = (df['Adj_Close'] - df['Adj_Open']) / df['Adj_Open'] * 100.0"
   ]
  },
  {
   "cell_type": "code",
   "execution_count": 15,
   "metadata": {},
   "outputs": [
    {
     "name": "stdout",
     "output_type": "stream",
     "text": [
      "   Adj_Close    HL_PCT  PCT_change   Adj_Volume\n",
      "0  41.025302  0.800795    0.046784   65920748.0\n",
      "1  40.910197  0.627198    0.293945   85992852.0\n",
      "2  40.903003  1.050009   -0.134660  132742144.0\n",
      "3  41.967723  0.527970    0.188917   65397776.0\n",
      "4  41.967723  1.097080    0.482287   83799584.0\n"
     ]
    }
   ],
   "source": [
    "#Now we will define a new dataframe as below:\n",
    "\n",
    "df = df[['Adj_Close', 'HL_PCT', 'PCT_change', 'Adj_Volume']]\n",
    "\n",
    "print(df.head())"
   ]
  },
  {
   "cell_type": "markdown",
   "metadata": {},
   "source": [
    "### 5. Preparing the dataset"
   ]
  },
  {
   "cell_type": "markdown",
   "metadata": {},
   "source": [
    "+ **Now we define the forecasting column and fill any NaN data with -99999.**\n",
    "\n",
    "+ **Finally, we define what we want to forecast out.**\n",
    "\n",
    "+ **Here we want to forecast out 1% of the entire length of the dataset.**"
   ]
  },
  {
   "cell_type": "code",
   "execution_count": 16,
   "metadata": {},
   "outputs": [],
   "source": [
    "forecast_col = 'Adj_Close'\n",
    "df.fillna(value=-99999, inplace=True)\n",
    "forecast_out = int(math.ceil(0.01 * len(df)))"
   ]
  },
  {
   "cell_type": "code",
   "execution_count": 17,
   "metadata": {},
   "outputs": [],
   "source": [
    "df['label'] = df[forecast_col].shift(-forecast_out)"
   ]
  },
  {
   "cell_type": "code",
   "execution_count": 18,
   "metadata": {},
   "outputs": [],
   "source": [
    "#Now we'll drop any NaN information from the dataframe:\n",
    "\n",
    "df.dropna(inplace=True)"
   ]
  },
  {
   "cell_type": "markdown",
   "metadata": {},
   "source": [
    "+ **Here we will divide the dataset into attributes (input) and labels (output). Then we will split the dataset into two parts - Testing data and Training data**"
   ]
  },
  {
   "cell_type": "code",
   "execution_count": 19,
   "metadata": {},
   "outputs": [],
   "source": [
    "X = np.array(df.drop(['label'], 1))\n",
    "y = np.array(df['label'])"
   ]
  },
  {
   "cell_type": "code",
   "execution_count": 20,
   "metadata": {},
   "outputs": [
    {
     "data": {
      "text/plain": [
       "(1079, 4)"
      ]
     },
     "execution_count": 20,
     "metadata": {},
     "output_type": "execute_result"
    }
   ],
   "source": [
    "X.shape"
   ]
  },
  {
   "cell_type": "code",
   "execution_count": 21,
   "metadata": {},
   "outputs": [
    {
     "data": {
      "text/plain": [
       "(1079,)"
      ]
     },
     "execution_count": 21,
     "metadata": {},
     "output_type": "execute_result"
    }
   ],
   "source": [
    "y.shape"
   ]
  },
  {
   "cell_type": "markdown",
   "metadata": {},
   "source": [
    "### 6. Splitting dataset into training and test set"
   ]
  },
  {
   "cell_type": "code",
   "execution_count": 22,
   "metadata": {},
   "outputs": [],
   "source": [
    "#spliting the data into training and testing data. The ratio of this data is 20% (Test data) and 80% (Train Data)\n",
    "\n",
    "X_train,X_test,y_train,y_test = train_test_split(X,y,random_state = 0,test_size=0.2)"
   ]
  },
  {
   "cell_type": "markdown",
   "metadata": {},
   "source": [
    "### 7. Traning the Algorithm"
   ]
  },
  {
   "cell_type": "code",
   "execution_count": 23,
   "metadata": {},
   "outputs": [
    {
     "name": "stdout",
     "output_type": "stream",
     "text": [
      "X train.shape = (863, 4)\n",
      "y train.shape = (863,)\n",
      "X test.shape  = (216, 4)\n",
      "y test.shape  = (216,)\n"
     ]
    }
   ],
   "source": [
    "print(\"X train.shape =\", X_train.shape)\n",
    "print(\"y train.shape =\", y_train.shape)\n",
    "print(\"X test.shape  =\", X_test.shape)\n",
    "print(\"y test.shape  =\", y_test.shape)"
   ]
  },
  {
   "cell_type": "code",
   "execution_count": 24,
   "metadata": {},
   "outputs": [],
   "source": [
    "linreg=linear_model.LinearRegression()"
   ]
  },
  {
   "cell_type": "code",
   "execution_count": 25,
   "metadata": {},
   "outputs": [
    {
     "data": {
      "text/plain": [
       "LinearRegression()"
      ]
     },
     "execution_count": 25,
     "metadata": {},
     "output_type": "execute_result"
    }
   ],
   "source": [
    "# Here we use fit function to tell the algorithm on which data to work\n",
    "\n",
    "linreg.fit(X_train,y_train)"
   ]
  },
  {
   "cell_type": "code",
   "execution_count": 26,
   "metadata": {},
   "outputs": [],
   "source": [
    "#plotting the Regression Line (Y = MX + C)\n",
    "\n",
    "Y0 = linreg.intercept_ + linreg.coef_*X_train"
   ]
  },
  {
   "cell_type": "markdown",
   "metadata": {},
   "source": [
    "### 8. Predictions Making"
   ]
  },
  {
   "cell_type": "code",
   "execution_count": 27,
   "metadata": {},
   "outputs": [
    {
     "name": "stdout",
     "output_type": "stream",
     "text": [
      "[25.94019346 22.08401602 28.14412034 26.39387059 28.87358525 16.84066879\n",
      " 14.12412705 27.72760871 23.36408598 22.4976183  22.67305471 27.09465787\n",
      " 24.94624742 17.00391389 28.35912049 27.2049852  24.69616916 23.81111611\n",
      " 23.27419466 27.33978341 22.34580517 15.55615841 26.94586649 26.17705015\n",
      " 40.53950008 39.99329646 25.64542989 26.04694542 23.51365928 16.91336268\n",
      " 31.86184608 16.86612304 30.37611238 28.57506878 22.1296303  29.14230513\n",
      " 33.23045162 39.55118178 17.23692647 23.81626297 21.94978265 21.75068409\n",
      " 36.02644003 23.30513336 32.38268304 21.63445541 27.35614008 26.12108531\n",
      " 28.92213104 28.7418526  28.11727647 25.49998501 23.26220697 25.52621996\n",
      " 21.58628133 28.26887613 40.16196573 39.72183875 25.04971494 25.54086583\n",
      " 32.87967976 26.85272091 22.12561118 25.1900928  22.80801679 16.51500831\n",
      " 27.0654879  21.7255813  22.29564793 16.16666674 17.99248604 22.03378312\n",
      " 38.47686044 17.35228814 37.12344128 24.87542189 33.3102814  21.6532492\n",
      " 26.86770742 23.62634198 18.014401   23.72456301 17.25763301 39.88901757\n",
      " 28.96914591 17.59231524 15.41219223 17.55330616 24.8256926  22.55747241\n",
      " 28.88059296 33.00322807 18.67109949 22.88459742 28.69850914 28.20434489\n",
      " 25.16764226 24.37450413 36.53673884 22.12175646 26.31222206 20.35250095\n",
      " 28.45919872 24.28928579 23.21894699 37.98425441 35.58663359 16.88090146\n",
      " 26.81558822 23.28360548 19.27814503 36.92501465 37.63079733 22.35697301\n",
      " 28.48571956 26.8474818  17.01395236 22.18603876 29.16092876 22.1751677\n",
      " 23.88136058 27.97045301 25.97728989 24.08733072 26.64423515 36.12729159\n",
      " 25.20836806 25.54058691 37.65565756 28.4392234  33.25241298 27.68316289\n",
      " 22.83194845 26.59301694 26.6206455  22.52912735 22.83495535 15.00135552\n",
      " 16.33115586 32.0918453  27.21250272 22.27937444 32.55776106 26.42744593\n",
      " 40.99228438 22.96243354 28.25914449 39.91880474 29.10516416 38.04934136\n",
      " 25.36121592 17.16026353 21.06790806 25.98752315 26.41535085 25.93484822\n",
      " 25.97368414 29.04467887 28.64933017 26.97721564 22.06255893 17.80752776\n",
      " 25.8256402  28.78546367 23.79766224 26.33830008 17.62534371 16.85624156\n",
      " 29.27581491 25.66483805 26.08353012 16.73863576 29.52774025 20.59727259\n",
      " 23.19342567 27.78295975 35.70439044 17.45454126 22.93621468 25.55982905\n",
      " 16.97306541 28.50779519 20.95928667 28.1849745  29.36166649 25.32935564\n",
      " 24.25521231 16.40255501 33.35850812 21.26226112 21.53333067 25.4353618\n",
      " 35.99386035 17.92504203 20.30540046 17.50607104 21.37209484 16.36909056\n",
      " 25.31073383 16.86681633 15.58084706 20.20439838 26.87375785 26.36048893\n",
      " 24.47085715 23.06830453 24.17555831 24.7942007  26.22619421 40.53513057\n",
      " 18.49534938 18.95887778 36.42775025 19.05500153 23.44632998 25.0853281 ]\n"
     ]
    }
   ],
   "source": [
    "#predicting the Scores for test data\n",
    "y_predicted=linreg.predict(X_test)\n",
    "print(y_predicted)"
   ]
  },
  {
   "cell_type": "markdown",
   "metadata": {},
   "source": [
    "### 9. Comparing the Predicted Score with the Actual Score"
   ]
  },
  {
   "cell_type": "code",
   "execution_count": 31,
   "metadata": {},
   "outputs": [
    {
     "data": {
      "text/html": [
       "<div>\n",
       "<style scoped>\n",
       "    .dataframe tbody tr th:only-of-type {\n",
       "        vertical-align: middle;\n",
       "    }\n",
       "\n",
       "    .dataframe tbody tr th {\n",
       "        vertical-align: top;\n",
       "    }\n",
       "\n",
       "    .dataframe thead th {\n",
       "        text-align: right;\n",
       "    }\n",
       "</style>\n",
       "<table border=\"1\" class=\"dataframe\">\n",
       "  <thead>\n",
       "    <tr style=\"text-align: right;\">\n",
       "      <th></th>\n",
       "      <th>Actual</th>\n",
       "      <th>Predicted</th>\n",
       "    </tr>\n",
       "  </thead>\n",
       "  <tbody>\n",
       "    <tr>\n",
       "      <th>0</th>\n",
       "      <td>24.604220</td>\n",
       "      <td>25.940193</td>\n",
       "    </tr>\n",
       "    <tr>\n",
       "      <th>1</th>\n",
       "      <td>22.579107</td>\n",
       "      <td>22.084016</td>\n",
       "    </tr>\n",
       "    <tr>\n",
       "      <th>2</th>\n",
       "      <td>28.950364</td>\n",
       "      <td>28.144120</td>\n",
       "    </tr>\n",
       "    <tr>\n",
       "      <th>3</th>\n",
       "      <td>27.415810</td>\n",
       "      <td>26.393871</td>\n",
       "    </tr>\n",
       "    <tr>\n",
       "      <th>4</th>\n",
       "      <td>28.715644</td>\n",
       "      <td>28.873585</td>\n",
       "    </tr>\n",
       "    <tr>\n",
       "      <th>...</th>\n",
       "      <td>...</td>\n",
       "      <td>...</td>\n",
       "    </tr>\n",
       "    <tr>\n",
       "      <th>211</th>\n",
       "      <td>18.932671</td>\n",
       "      <td>18.958878</td>\n",
       "    </tr>\n",
       "    <tr>\n",
       "      <th>212</th>\n",
       "      <td>35.777130</td>\n",
       "      <td>36.427750</td>\n",
       "    </tr>\n",
       "    <tr>\n",
       "      <th>213</th>\n",
       "      <td>18.853116</td>\n",
       "      <td>19.055002</td>\n",
       "    </tr>\n",
       "    <tr>\n",
       "      <th>214</th>\n",
       "      <td>22.492287</td>\n",
       "      <td>23.446330</td>\n",
       "    </tr>\n",
       "    <tr>\n",
       "      <th>215</th>\n",
       "      <td>24.260674</td>\n",
       "      <td>25.085328</td>\n",
       "    </tr>\n",
       "  </tbody>\n",
       "</table>\n",
       "<p>216 rows × 2 columns</p>\n",
       "</div>"
      ],
      "text/plain": [
       "        Actual  Predicted\n",
       "0    24.604220  25.940193\n",
       "1    22.579107  22.084016\n",
       "2    28.950364  28.144120\n",
       "3    27.415810  26.393871\n",
       "4    28.715644  28.873585\n",
       "..         ...        ...\n",
       "211  18.932671  18.958878\n",
       "212  35.777130  36.427750\n",
       "213  18.853116  19.055002\n",
       "214  22.492287  23.446330\n",
       "215  24.260674  25.085328\n",
       "\n",
       "[216 rows x 2 columns]"
      ]
     },
     "execution_count": 31,
     "metadata": {},
     "output_type": "execute_result"
    }
   ],
   "source": [
    "df_compare = pd.DataFrame({'Actual': y_test, 'Predicted': y_predicted})  \n",
    "df_compare"
   ]
  },
  {
   "cell_type": "markdown",
   "metadata": {},
   "source": [
    "### 10. Evaluating the Model"
   ]
  },
  {
   "cell_type": "code",
   "execution_count": 32,
   "metadata": {},
   "outputs": [
    {
     "name": "stdout",
     "output_type": "stream",
     "text": [
      "Mean Absolute Error: 0.7627997911381633\n",
      "Mean Squared Error: 0.9394869770337422\n",
      "Root Mean Squared Error: 0.9692713639810795\n"
     ]
    }
   ],
   "source": [
    "# Finding the accuracy of the model\n",
    "from sklearn import metrics\n",
    "print('Mean Absolute Error:', metrics.mean_absolute_error(y_test, y_predicted))\n",
    "print(\"Mean Squared Error:\", metrics.mean_squared_error(y_test,y_predicted))\n",
    "print(\"Root Mean Squared Error:\", math.sqrt(mean_squared_error(y_test,y_predicted)))"
   ]
  },
  {
   "cell_type": "markdown",
   "metadata": {},
   "source": [
    "## Thank You"
   ]
  }
 ],
 "metadata": {
  "kernelspec": {
   "display_name": "Python 3",
   "language": "python",
   "name": "python3"
  },
  "language_info": {
   "codemirror_mode": {
    "name": "ipython",
    "version": 3
   },
   "file_extension": ".py",
   "mimetype": "text/x-python",
   "name": "python",
   "nbconvert_exporter": "python",
   "pygments_lexer": "ipython3",
   "version": "3.8.3"
  }
 },
 "nbformat": 4,
 "nbformat_minor": 4
}
